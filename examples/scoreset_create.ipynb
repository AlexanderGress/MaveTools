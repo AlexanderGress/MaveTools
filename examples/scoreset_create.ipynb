{
 "cells": [
  {
   "cell_type": "markdown",
   "metadata": {},
   "source": [
    "# POST scoreset"
   ]
  },
  {
   "cell_type": "markdown",
   "metadata": {},
   "source": [
    "## create a scoreset in MaveDB via the API"
   ]
  },
  {
   "cell_type": "markdown",
   "metadata": {},
   "source": [
    "Before we begin, you will need to put the following files in directories that we have created for you. We have created the directories for you, and have test files in that those locations. However, you can store these files where you like, just make sure you adjust the path to the test file directory in later in this \n",
    "\n",
    "abstract.md\n",
    "count.csv\n",
    "fasta_file.fasta\n",
    "metadata.json\n",
    "score_data.csv\n",
    "\n",
    "Be sure to organize the content of these files before beginning."
   ]
  },
  {
   "cell_type": "markdown",
   "metadata": {},
   "source": [
    "To begin, import the modeules below."
   ]
  },
  {
   "cell_type": "code",
   "execution_count": null,
   "metadata": {},
   "outputs": [],
   "source": [
    "import attr, os\n",
    "from mavetools.client.client import Client\n",
    "from mavetools.models.licence import Licence\n",
    "from mavetools.models.scoreset import NewScoreSet, NewScoreSetRequest, ScoreSet\n",
    "from mavetools.models.target import NewTarget, ReferenceGenome, ReferenceMap, SequenceOffset"
   ]
  },
  {
   "cell_type": "markdown",
   "metadata": {},
   "source": [
    "You will want to check your environment variables on your computer and see if the variable named MAVEDB_BASE_URL exists. If it exists, base_url will be set to the value of MAVEDB_BASE_URL. To create and set a new evironment variable, follow these steps:\n",
    "\n",
    "1. \n",
    "2.\n",
    ".\n",
    ".\n",
    ". \n",
    "\n",
    "If the environment variable MAVEDB_BASE_URL does not exist, an empty string is returned instead, which will inturn set base_url to localhost (http://127.0.0.1:8000/api/). This default funcionality is what you would want to use when working with a local instance of MaveDB (e.g., a development branch)."
   ]
  },
  {
   "cell_type": "code",
   "execution_count": null,
   "metadata": {},
   "outputs": [],
   "source": [
    "base_url = os.getenv('MAVEDB_BASE_URL', '')"
   ]
  },
  {
   "cell_type": "markdown",
   "metadata": {},
   "source": [
    "Set the name value of scoreset_urn to the value of the scoreset and set the value of experiment_urn to the urn of the experiment where the scoreset belongs."
   ]
  },
  {
   "cell_type": "code",
   "execution_count": null,
   "metadata": {},
   "outputs": [],
   "source": [
    "scoreset_urn = 'urn:mavedb:00000001-a-1'\n",
    "experiment_urn = 'urn:mavedb:00000001-a'"
   ]
  },
  {
   "cell_type": "markdown",
   "metadata": {},
   "source": [
    "Next, you will need an auth_token to make POST requests to MaveDB. If you have one, substitute it in the example provided below. If you need one, please follow these instructions:\n",
    "\n",
    "1.\n",
    "2.\n",
    "3.\n",
    ".\n",
    ".\n",
    ".\n",
    "\n",
    "The auth_token is generated and set in your user account page within MaveDB. Ensure that the token fits the format of the example token format below."
   ]
  },
  {
   "cell_type": "code",
   "execution_count": null,
   "metadata": {},
   "outputs": [],
   "source": [
    "# Generate a new auth_token in your profile and post it here\n",
    "auth_token = 'AseyaNLLhqv9jAm0joMkq2oqB0bw3GKxTclkT2NtG340RF6CfdM2UC3j8Fv4RpbQ'"
   ]
  },
  {
   "cell_type": "markdown",
   "metadata": {},
   "source": [
    "Here you instantiate the client object. The Client object is the object by which the POST request is performed. As mentioned in previously, if the MAVEDB_BASE_URL exists, the client object is instantiated with that value. Otherwise the client object is instantiated with default value, which points to localhost (http://127.0.0.1:8000/api/)."
   ]
  },
  {
   "cell_type": "code",
   "execution_count": null,
   "metadata": {},
   "outputs": [],
   "source": [
    "client = Client(base_url, auth_token=auth_token) if base_url else Client(auth_token=auth_token)"
   ]
  },
  {
   "cell_type": "markdown",
   "metadata": {},
   "source": [
    "test_file_dir is the path to the directory in which the files needed for making a scoreset POST resquest exist. The required files are as follows:\n",
    "\n",
    "1.\n",
    "2.\n",
    ".\n",
    ".\n",
    ".\n",
    "\n",
    "We have an example directory in mavetools. Though this directory can exist anywhere on your computer, you must put the correct path to that directory as the value to test_file_dir."
   ]
  },
  {
   "cell_type": "code",
   "execution_count": null,
   "metadata": {},
   "outputs": [],
   "source": [
    "# Change this dir string as needed. It's currently configured for running\n",
    "# inside a Docker container that mounts the home directory as a volume.\n",
    "test_file_dir = '/mavetools/tests/test_upload_scoreset/test_files'"
   ]
  },
  {
   "cell_type": "markdown",
   "metadata": {},
   "source": [
    "Instantiate the NewScoreSet object and assign it to the new_scoreset veriable. You must substitute the attribute values for your scoreset's attribute values."
   ]
  },
  {
   "cell_type": "code",
   "execution_count": null,
   "metadata": {},
   "outputs": [],
   "source": [
    "new_scoreset = NewScoreSet(\n",
    "    title='test_title',\n",
    "    short_description='test_short_description',\n",
    "    abstract_text='test_abstract_text',\n",
    "\n",
    "    experiment=experiment_urn,\n",
    "    score_data=f\"{test_file_dir}/test_score_data.csv\",\n",
    "    count_data=f\"{test_file_dir}/test_count.csv\",\n",
    "    meta_data=f\"{test_file_dir}/test_metadata.json\",\n",
    "    licence=Licence(short_name='CC BY 4.0'),\n",
    "\n",
    "    sra_ids=['SRP109119'],\n",
    "    pubmed_ids=['23035249'],\n",
    "    doi_ids=['10.1038/s41467-019-11526-w'],\n",
    ")"
   ]
  },
  {
   "cell_type": "markdown",
   "metadata": {},
   "source": [
    "Instantiate the NewScoresetRequest object and assign it to the new_scoreset_request. You must substitute the attribute values for your own."
   ]
  },
  {
   "cell_type": "code",
   "execution_count": null,
   "metadata": {},
   "outputs": [],
   "source": [
    "new_scoreset_request = NewScoreSetRequest(\n",
    "    scoreset=new_scoreset,\n",
    "    target=NewTarget(\n",
    "        name='test_target_name',\n",
    "        type='Protein coding',\n",
    "        sequence_type='Infer',\n",
    "        fasta_file=f\"{test_file_dir}/test_fasta_file.fasta\"\n",
    "    ),\n",
    "    uniprot=SequenceOffset(offset=1, identifier='P63165'),\n",
    "    ensembl=SequenceOffset(offset=1, identifier='ENSG00000116030'),\n",
    "    refseq=SequenceOffset(offset=1, identifier='NM_001005781.1'),\n",
    "    reference_maps=[\n",
    "        ReferenceMap(genome=ReferenceGenome(short_name='hg16'))\n",
    "    ]\n",
    ")"
   ]
  },
  {
   "cell_type": "markdown",
   "metadata": {},
   "source": []
  },
  {
   "cell_type": "code",
   "execution_count": null,
   "metadata": {},
   "outputs": [],
   "source": [
    "client.post_model_instance(new_scoreset_request)"
   ]
  }
 ],
 "metadata": {
  "kernelspec": {
   "display_name": "Python 3",
   "language": "python",
   "name": "python3"
  },
  "language_info": {
   "codemirror_mode": {
    "name": "ipython",
    "version": 3
   },
   "file_extension": ".py",
   "mimetype": "text/x-python",
   "name": "python",
   "nbconvert_exporter": "python",
   "pygments_lexer": "ipython3",
   "version": "3.8.3"
  }
 },
 "nbformat": 4,
 "nbformat_minor": 4
}
