{
 "cells": [
  {
   "cell_type": "markdown",
   "metadata": {},
   "source": [
    "# POST experiment"
   ]
  },
  {
   "cell_type": "markdown",
   "metadata": {},
   "source": [
    "## create an experiment in MaveDB via the API"
   ]
  },
  {
   "cell_type": "markdown",
   "metadata": {},
   "source": [
    "To begin, import the modeules below."
   ]
  },
  {
   "cell_type": "code",
   "execution_count": null,
   "metadata": {},
   "outputs": [],
   "source": [
    "import os\n",
    "from mavetools.client.client import Client\n",
    "from mavetools.models.experiment import NewExperiment"
   ]
  },
  {
   "cell_type": "markdown",
   "metadata": {},
   "source": [
    "You will want to check your environment variables on your computer and see if the variable named MAVEDB_BASE_URL exists. If it exists, base_url will be set to the value of MAVEDB_BASE_URL. To create and set a new evironment variable, follow these steps:\n",
    "\n",
    "    1.\n",
    "    2.\n",
    "    .\n",
    "    .\n",
    "    .\n",
    "\n",
    "If the environment variable MAVEDB_BASE_URL does not exist, an empty string is returned instead, which will inturn set base_url to localhost (http://127.0.0.1:8000/api/). This default funcionality is what you would want to use when working with a local instance of MaveDB (e.g., a development branch)."
   ]
  },
  {
   "cell_type": "code",
   "execution_count": null,
   "metadata": {},
   "outputs": [],
   "source": [
    "base_url = os.getenv('MAVEDB_BASE_URL', '')\n",
    "# experimentset_urn = 'tmp:jCICvwLCntIuKIsf'"
   ]
  },
  {
   "cell_type": "markdown",
   "metadata": {},
   "source": [
    "Next, you will need an auth_token to make POST requests to MaveDB. If you have one, substitute it in the example provided below. If you need one, please follow these instructions:\n",
    "\n",
    "    1.\n",
    "    2.\n",
    "    3.\n",
    "    .\n",
    "    .\n",
    "    .\n",
    "\n",
    "The auth_token is generated and set in your user account page within MaveDB. Ensure that the token fits the format of the example token format below."
   ]
  },
  {
   "cell_type": "code",
   "execution_count": null,
   "metadata": {},
   "outputs": [],
   "source": [
    "# Generate a new auth_token in your profile and post it here\n",
    "auth_token = 'AseyaNLLhqv9jAm0joMkq2oqB0bw3GKxTclkT2NtG340RF6CfdM2UC3j8Fv4RpbQ'\n",
    "#auth_token =\n",
    "\n"
   ]
  },
  {
   "cell_type": "markdown",
   "metadata": {},
   "source": [
    "Here we instantiate the client object.\n",
    "The Client object is the object by which the POST request is performed.\n",
    "As mentioned in previously, if the MAVEDB_BASE_URL exists, the client object is instantiated with that value. Otherwise the client object is instantiated with default value, which points to localhost (http://127.0.0.1:8000/api/)."
   ]
  },
  {
   "cell_type": "code",
   "execution_count": null,
   "metadata": {},
   "outputs": [],
   "source": [
    "client = Client(base_url, auth_token=auth_token) if base_url else Client(auth_token=auth_token)"
   ]
  },
  {
   "cell_type": "markdown",
   "metadata": {},
   "source": [
    "Create a NewExperiment object and populate the required attributes. You will need to substitute the values of the attributes for your own."
   ]
  },
  {
   "cell_type": "code",
   "execution_count": null,
   "metadata": {},
   "outputs": [],
   "source": [
    "# substitute the each attribute for you experiment attributes\n",
    "new_experiment = NewExperiment(\n",
    "    # experimentset=experimentset_urn,\n",
    "    title='exp_test_title',\n",
    "    short_description='exp_test_short_description',\n",
    "    abstract_text='test_abstract_text',\n",
    "    method_text='test_method_text',\n",
    "\n",
    "    sra_ids=['SRP109119'],\n",
    "    pubmed_ids=['23035249'],\n",
    "    doi_ids=['10.1038/s41467-019-11526-w'],\n",
    ")"
   ]
  },
  {
   "cell_type": "markdown",
   "metadata": {},
   "source": [
    "POST the model instance by passing the NewExperiment object as an argument to the post_model_istance funtion that operates on the Client object. This will POST the model instance to the approprate API endpoint."
   ]
  },
  {
   "cell_type": "code",
   "execution_count": null,
   "metadata": {},
   "outputs": [],
   "source": [
    "client.post_model_instance(new_experiment)"
   ]
  }
 ],
 "metadata": {
  "kernelspec": {
   "display_name": "Python 3",
   "language": "python",
   "name": "python3"
  },
  "language_info": {
   "codemirror_mode": {
    "name": "ipython",
    "version": 3
   },
   "file_extension": ".py",
   "mimetype": "text/x-python",
   "name": "python",
   "nbconvert_exporter": "python",
   "pygments_lexer": "ipython3",
   "version": "3.8.3"
  }
 },
 "nbformat": 4,
 "nbformat_minor": 4
}
