{
 "cells": [
  {
   "cell_type": "markdown",
   "metadata": {},
   "source": [
    "# GET scoreset"
   ]
  },
  {
   "cell_type": "markdown",
   "metadata": {},
   "source": [
    "## get a scoreset from MaveDB via the API"
   ]
  },
  {
   "cell_type": "markdown",
   "metadata": {},
   "source": [
    "To begin, import the modeules below."
   ]
  },
  {
   "cell_type": "code",
   "execution_count": null,
   "metadata": {},
   "outputs": [],
   "source": [
    "import attr, os\n",
    "from pprint import PrettyPrinter\n",
    "from mavetools.client.client import Client\n",
    "from mavetools.models.scoreset import ScoreSet"
   ]
  },
  {
   "cell_type": "markdown",
   "metadata": {},
   "source": [
    "Pretty printer is used to format the output nicely."
   ]
  },
  {
   "cell_type": "code",
   "execution_count": null,
   "metadata": {},
   "outputs": [],
   "source": [
    "pp = PrettyPrinter(indent=2) # for formatting output\n",
    "# check environment variables and see if variable named MAVEDB_BASE_URL exists and return value\n",
    "# if the value does not exist, an empty string is returned instead"
   ]
  },
  {
   "cell_type": "markdown",
   "metadata": {},
   "source": [
    "You will want to check your environment variables on your computer and see if the variable named MAVEDB_BASE_URL exists. If it exists, base_url will be set to the value of MAVEDB_BASE_URL. To create and set a new evironment variable, follow these steps:\n",
    "\n",
    "1.\n",
    "2.\n",
    ".\n",
    ".\n",
    ".\n",
    "\n",
    "If the environment variable MAVEDB_BASE_URL does not exist, an empty string is returned instead, which will inturn set base_url to localhost (http://127.0.0.1:8000/api/). This default funcionality is what you would want to use when working with a local instance of MaveDB (e.g., a development branch)."
   ]
  },
  {
   "cell_type": "code",
   "execution_count": null,
   "metadata": {},
   "outputs": [],
   "source": [
    "base_url = os.getenv('MAVEDB_BASE_URL', '')"
   ]
  },
  {
   "cell_type": "markdown",
   "metadata": {},
   "source": [
    "Set experiment_urn to match the scoreset you want to get."
   ]
  },
  {
   "cell_type": "code",
   "execution_count": null,
   "metadata": {},
   "outputs": [],
   "source": [
    "scoreset_urn = 'urn:mavedb:00000001-a-1'  # the urn of the experiment we want to get"
   ]
  },
  {
   "cell_type": "markdown",
   "metadata": {},
   "source": [
    "Next, you will need an auth_token to make POST requests to MaveDB. If you have one, substitute it in the example provided below. If you need one, please follow these instructions:\n",
    "\n",
    "1.\n",
    "2.\n",
    "3.\n",
    ".\n",
    ".\n",
    ".\n",
    "\n",
    "The auth_token is generated and set in your user account page within MaveDB. Ensure that the token fits the format of the example token format below."
   ]
  },
  {
   "cell_type": "code",
   "execution_count": null,
   "metadata": {},
   "outputs": [],
   "source": [
    "# Generate a new auth_token in your profile and post it here\n",
    "auth_token = 'AseyaNLLhqv9jAm0joMkq2oqB0bw3GKxTclkT2NtG340RF6CfdM2UC3j8Fv4RpbQ'\n",
    "#auth_token ="
   ]
  },
  {
   "cell_type": "markdown",
   "metadata": {},
   "source": [
    "Here you instantiate the client object. The Client object is the object by which the POST request is performed. As mentioned in previously, if the MAVEDB_BASE_URL exists, the client object is instantiated with that value. Otherwise the client object is instantiated with default value, which points to localhost (http://127.0.0.1:8000/api/)."
   ]
  },
  {
   "cell_type": "code",
   "execution_count": null,
   "metadata": {},
   "outputs": [],
   "source": [
    "# if the base url exists, the client object is instantiated with that value\n",
    "# otherwise the client object is instantiated with default value which points to localhost\n",
    "client = Client(base_url, auth_token=auth_token) if base_url else Client(auth_token=auth_token)"
   ]
  },
  {
   "cell_type": "markdown",
   "metadata": {},
   "source": [
    "GET the model instance by passing the model type (Scoreset, in this instance) and the scoreset_urn as arguments to the get_model_istance funtion that operates on the Client object. This will GET the model instance (resource) from the server via the approprate API endpoint."
   ]
  },
  {
   "cell_type": "code",
   "execution_count": null,
   "metadata": {
    "scrolled": true
   },
   "outputs": [],
   "source": [
    "scoreset = client.get_model_instance(ScoreSet, scoreset_urn)"
   ]
  },
  {
   "cell_type": "markdown",
   "metadata": {},
   "source": [
    "Now, display the results!"
   ]
  },
  {
   "cell_type": "code",
   "execution_count": null,
   "metadata": {},
   "outputs": [],
   "source": [
    "pp.pprint(attr.asdict(scoreset))"
   ]
  }
 ],
 "metadata": {
  "kernelspec": {
   "display_name": "Python 3",
   "language": "python",
   "name": "python3"
  },
  "language_info": {
   "codemirror_mode": {
    "name": "ipython",
    "version": 3
   },
   "file_extension": ".py",
   "mimetype": "text/x-python",
   "name": "python",
   "nbconvert_exporter": "python",
   "pygments_lexer": "ipython3",
   "version": "3.8.3"
  }
 },
 "nbformat": 4,
 "nbformat_minor": 4
}
